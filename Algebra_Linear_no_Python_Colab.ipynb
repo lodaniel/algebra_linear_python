{
  "nbformat": 4,
  "nbformat_minor": 0,
  "metadata": {
    "colab": {
      "name": "Algebra_Linear_no_Python-Colab.ipynb",
      "provenance": [],
      "collapsed_sections": []
    },
    "kernelspec": {
      "name": "python3",
      "display_name": "Python 3"
    }
  },
  "cells": [
    {
      "cell_type": "markdown",
      "metadata": {
        "id": "gwCxQ7kGatLa"
      },
      "source": [
        "# **Álgebra Linear**"
      ]
    },
    {
      "cell_type": "code",
      "metadata": {
        "id": "QDMMCvgDY0Lc"
      },
      "source": [
        "import numpy as np\n",
        "import matplotlib.pyplot as plt\n",
        "from mpl_toolkits.mplot3d import Axes3D"
      ],
      "execution_count": 1,
      "outputs": []
    },
    {
      "cell_type": "code",
      "metadata": {
        "id": "_Ud7d040aMiz",
        "colab": {
          "base_uri": "https://localhost:8080/"
        },
        "outputId": "47dc8a2e-46db-47f3-b693-219655b78281"
      },
      "source": [
        "v1 = [2,5]\n",
        "v2 = [1,6,8]\n",
        "v1 ,v2"
      ],
      "execution_count": 2,
      "outputs": [
        {
          "output_type": "execute_result",
          "data": {
            "text/plain": [
              "([2, 5], [1, 6, 8])"
            ]
          },
          "metadata": {
            "tags": []
          },
          "execution_count": 2
        }
      ]
    },
    {
      "cell_type": "code",
      "metadata": {
        "colab": {
          "base_uri": "https://localhost:8080/"
        },
        "id": "mwR0dyP9aX1F",
        "outputId": "6fc94637-5f3b-4157-f3f5-2351e86f8b4c"
      },
      "source": [
        "type(v1)"
      ],
      "execution_count": 3,
      "outputs": [
        {
          "output_type": "execute_result",
          "data": {
            "text/plain": [
              "list"
            ]
          },
          "metadata": {
            "tags": []
          },
          "execution_count": 3
        }
      ]
    },
    {
      "cell_type": "code",
      "metadata": {
        "id": "yx1rKwtiabxy",
        "colab": {
          "base_uri": "https://localhost:8080/"
        },
        "outputId": "8cb4f3bc-e9fc-4b5f-cdfa-9ac729495472"
      },
      "source": [
        "v3 = np.array([8,3,9])\n",
        "type(v3)"
      ],
      "execution_count": 4,
      "outputs": [
        {
          "output_type": "execute_result",
          "data": {
            "text/plain": [
              "numpy.ndarray"
            ]
          },
          "metadata": {
            "tags": []
          },
          "execution_count": 4
        }
      ]
    },
    {
      "cell_type": "code",
      "metadata": {
        "colab": {
          "base_uri": "https://localhost:8080/"
        },
        "id": "QQ1Ouq0xaibO",
        "outputId": "f427ed70-3397-4092-ff2f-20a96d73b33f"
      },
      "source": [
        "v3.shape[0]"
      ],
      "execution_count": 5,
      "outputs": [
        {
          "output_type": "execute_result",
          "data": {
            "text/plain": [
              "3"
            ]
          },
          "metadata": {
            "tags": []
          },
          "execution_count": 5
        }
      ]
    },
    {
      "cell_type": "code",
      "metadata": {
        "colab": {
          "base_uri": "https://localhost:8080/"
        },
        "id": "nFF1XmbwalrB",
        "outputId": "b9bfc309-9f81-4961-b037-7d0579df1ebe"
      },
      "source": [
        "v3.shape"
      ],
      "execution_count": 6,
      "outputs": [
        {
          "output_type": "execute_result",
          "data": {
            "text/plain": [
              "(3,)"
            ]
          },
          "metadata": {
            "tags": []
          },
          "execution_count": 6
        }
      ]
    },
    {
      "cell_type": "code",
      "metadata": {
        "colab": {
          "base_uri": "https://localhost:8080/"
        },
        "id": "nycHdFY54p4q",
        "outputId": "7fc4ba45-415e-4307-a264-2898fc0fdf4f"
      },
      "source": [
        "v4=np.array([1.+2.j, 3.+4.j, 5, 6.j], dtype=complex)\n",
        "v4"
      ],
      "execution_count": 7,
      "outputs": [
        {
          "output_type": "execute_result",
          "data": {
            "text/plain": [
              "array([1.+2.j, 3.+4.j, 5.+0.j, 0.+6.j])"
            ]
          },
          "metadata": {
            "tags": []
          },
          "execution_count": 7
        }
      ]
    },
    {
      "cell_type": "code",
      "metadata": {
        "colab": {
          "base_uri": "https://localhost:8080/"
        },
        "id": "6w-fSaAN3O0D",
        "outputId": "b7e74378-273e-4cf7-8d56-d7b978ab4411"
      },
      "source": [
        "type(v4)"
      ],
      "execution_count": 8,
      "outputs": [
        {
          "output_type": "execute_result",
          "data": {
            "text/plain": [
              "numpy.ndarray"
            ]
          },
          "metadata": {
            "tags": []
          },
          "execution_count": 8
        }
      ]
    },
    {
      "cell_type": "markdown",
      "metadata": {
        "id": "EPyXaiRWbOR3"
      },
      "source": [
        "# **Lendo elementos de um array**"
      ]
    },
    {
      "cell_type": "code",
      "metadata": {
        "id": "Kpuyl_CdbQV-",
        "colab": {
          "base_uri": "https://localhost:8080/"
        },
        "outputId": "ba74b427-36cd-4cd1-bd75-3831564255c4"
      },
      "source": [
        "a = np.array([7,5,3,9,0,2])\n",
        "a"
      ],
      "execution_count": 9,
      "outputs": [
        {
          "output_type": "execute_result",
          "data": {
            "text/plain": [
              "array([7, 5, 3, 9, 0, 2])"
            ]
          },
          "metadata": {
            "tags": []
          },
          "execution_count": 9
        }
      ]
    },
    {
      "cell_type": "code",
      "metadata": {
        "id": "mr9HzgawbzCx",
        "colab": {
          "base_uri": "https://localhost:8080/"
        },
        "outputId": "b91bb265-2201-42e1-c14b-e39a07d49661"
      },
      "source": [
        "a[0]"
      ],
      "execution_count": 10,
      "outputs": [
        {
          "output_type": "execute_result",
          "data": {
            "text/plain": [
              "7"
            ]
          },
          "metadata": {
            "tags": []
          },
          "execution_count": 10
        }
      ]
    },
    {
      "cell_type": "code",
      "metadata": {
        "id": "lHFSjeSDb1QC",
        "colab": {
          "base_uri": "https://localhost:8080/"
        },
        "outputId": "bf7c05cd-db53-480d-9a5e-c1cbdf6b3e1f"
      },
      "source": [
        "a[1:]"
      ],
      "execution_count": 11,
      "outputs": [
        {
          "output_type": "execute_result",
          "data": {
            "text/plain": [
              "array([5, 3, 9, 0, 2])"
            ]
          },
          "metadata": {
            "tags": []
          },
          "execution_count": 11
        }
      ]
    },
    {
      "cell_type": "code",
      "metadata": {
        "id": "cmW-pH8Fb5cD",
        "colab": {
          "base_uri": "https://localhost:8080/"
        },
        "outputId": "06bc11b1-d849-4c48-bdb1-7b6dfe8599d8"
      },
      "source": [
        "a[1:4]"
      ],
      "execution_count": 12,
      "outputs": [
        {
          "output_type": "execute_result",
          "data": {
            "text/plain": [
              "array([5, 3, 9])"
            ]
          },
          "metadata": {
            "tags": []
          },
          "execution_count": 12
        }
      ]
    },
    {
      "cell_type": "code",
      "metadata": {
        "id": "cDQCo_EriHPC",
        "colab": {
          "base_uri": "https://localhost:8080/"
        },
        "outputId": "65c23157-97b4-4f0d-baed-dd8e959a4679"
      },
      "source": [
        "a[-1]"
      ],
      "execution_count": 13,
      "outputs": [
        {
          "output_type": "execute_result",
          "data": {
            "text/plain": [
              "2"
            ]
          },
          "metadata": {
            "tags": []
          },
          "execution_count": 13
        }
      ]
    },
    {
      "cell_type": "code",
      "metadata": {
        "id": "8jzIMShaiJsa",
        "colab": {
          "base_uri": "https://localhost:8080/"
        },
        "outputId": "a9965424-96cf-49ee-8fab-230741dc9427"
      },
      "source": [
        "a[-3]"
      ],
      "execution_count": 14,
      "outputs": [
        {
          "output_type": "execute_result",
          "data": {
            "text/plain": [
              "9"
            ]
          },
          "metadata": {
            "tags": []
          },
          "execution_count": 14
        }
      ]
    },
    {
      "cell_type": "code",
      "metadata": {
        "id": "QWy6GiH6it7R",
        "colab": {
          "base_uri": "https://localhost:8080/"
        },
        "outputId": "bdbd16a4-0227-414b-cb50-1da9f989d249"
      },
      "source": [
        "a[-6]"
      ],
      "execution_count": 15,
      "outputs": [
        {
          "output_type": "execute_result",
          "data": {
            "text/plain": [
              "7"
            ]
          },
          "metadata": {
            "tags": []
          },
          "execution_count": 15
        }
      ]
    },
    {
      "cell_type": "code",
      "metadata": {
        "id": "mqITsWxWiwWb",
        "colab": {
          "base_uri": "https://localhost:8080/"
        },
        "outputId": "9f251496-5473-4b4b-9f12-42758d84abab"
      },
      "source": [
        "a[-3:-1]"
      ],
      "execution_count": 16,
      "outputs": [
        {
          "output_type": "execute_result",
          "data": {
            "text/plain": [
              "array([9, 0])"
            ]
          },
          "metadata": {
            "tags": []
          },
          "execution_count": 16
        }
      ]
    },
    {
      "cell_type": "markdown",
      "metadata": {
        "id": "jbIStMmNjDnI"
      },
      "source": [
        "#**Plotando um vetor**"
      ]
    },
    {
      "cell_type": "code",
      "metadata": {
        "id": "51gCy8BwjOXO"
      },
      "source": [
        "v = [3,5]\n",
        "u = [1,2,3]"
      ],
      "execution_count": 17,
      "outputs": []
    },
    {
      "cell_type": "code",
      "metadata": {
        "id": "xmXKN4Q5jQsY",
        "colab": {
          "base_uri": "https://localhost:8080/",
          "height": 282
        },
        "outputId": "fa20d20a-77ed-4172-bde9-391728a07847"
      },
      "source": [
        "plt.plot(v)"
      ],
      "execution_count": 18,
      "outputs": [
        {
          "output_type": "execute_result",
          "data": {
            "text/plain": [
              "[<matplotlib.lines.Line2D at 0x7f96fa0f12d0>]"
            ]
          },
          "metadata": {
            "tags": []
          },
          "execution_count": 18
        },
        {
          "output_type": "display_data",
          "data": {
            "image/png": "[encoded data removed]",
            "text/plain": [
              "<Figure size 432x288 with 1 Axes>"
            ]
          },
          "metadata": {
            "tags": [],
            "needs_background": "light"
          }
        }
      ]
    },
    {
      "cell_type": "code",
      "metadata": {
        "id": "ps2G6rbgjcqu",
        "colab": {
          "base_uri": "https://localhost:8080/",
          "height": 282
        },
        "outputId": "db9a689e-266a-498d-df81-afdd79ea87ed"
      },
      "source": [
        "plt.plot([0,v[0]] , [0,v[1]])"
      ],
      "execution_count": 19,
      "outputs": [
        {
          "output_type": "execute_result",
          "data": {
            "text/plain": [
              "[<matplotlib.lines.Line2D at 0x7f96fa0c5610>]"
            ]
          },
          "metadata": {
            "tags": []
          },
          "execution_count": 19
        },
        {
          "output_type": "display_data",
          "data": {
            "image/png": "[encoded data removed]",
            "text/plain": [
              "<Figure size 432x288 with 1 Axes>"
            ]
          },
          "metadata": {
            "tags": [],
            "needs_background": "light"
          }
        }
      ]
    },
    {
      "cell_type": "markdown",
      "metadata": {
        "id": "-yXjOOc0l1f3"
      },
      "source": [
        "# **Plota um vetor 2D**"
      ]
    },
    {
      "cell_type": "code",
      "metadata": {
        "id": "-sAMql4bj4Gm",
        "colab": {
          "base_uri": "https://localhost:8080/",
          "height": 269
        },
        "outputId": "a30cf5f4-1966-41f0-c7eb-1396f55b2fdd"
      },
      "source": [
        "plt.plot([0,v[0]] , [0,v[1]])\n",
        "plt.plot([8,-8] , [0,0] , 'k--')\n",
        "plt.plot([0,0] , [8,-8] , 'k--')\n",
        "plt.grid()\n",
        "plt.axis((-8, 8, -8, 8))\n",
        "plt.show()"
      ],
      "execution_count": 20,
      "outputs": [
        {
          "output_type": "display_data",
          "data": {
            "image/png": "[encoded data removed]",
            "text/plain": [
              "<Figure size 432x288 with 1 Axes>"
            ]
          },
          "metadata": {
            "tags": [],
            "needs_background": "light"
          }
        }
      ]
    },
    {
      "cell_type": "markdown",
      "metadata": {
        "id": "ovfdEFMvl8xP"
      },
      "source": [
        "# **Plota um vetor 3D**"
      ]
    },
    {
      "cell_type": "code",
      "metadata": {
        "id": "Vb_Me02jl-Pw",
        "colab": {
          "base_uri": "https://localhost:8080/",
          "height": 319
        },
        "outputId": "422ae555-bbe2-4df0-94dd-934190ea55c4"
      },
      "source": [
        "fig = plt.figure()\n",
        "ax = Axes3D(fig)\n",
        "ax.plot([0,u[0]],[0,u[1]],[0,u[2]])\n",
        "#plt.axis('equal')\n",
        "ax.plot([0, 0],[0, 0],[-5, 5],'k--')\n",
        "ax.plot([0, 0],[-5, 5],[0, 0],'k--')\n",
        "ax.plot([-5, 5],[0, 0],[0, 0],'k--')\n",
        "plt.show()"
      ],
      "execution_count": 21,
      "outputs": [
        {
          "output_type": "display_data",
          "data": {
            "image/png": "[encoded data removed]",
            "text/plain": [
              "<Figure size 432x288 with 1 Axes>"
            ]
          },
          "metadata": {
            "tags": [],
            "needs_background": "light"
          }
        }
      ]
    },
    {
      "cell_type": "markdown",
      "metadata": {
        "id": "nCmC_gFfmbOt"
      },
      "source": [
        "# **Soma de vetores**"
      ]
    },
    {
      "cell_type": "code",
      "metadata": {
        "id": "h_momWsLmdyU",
        "colab": {
          "base_uri": "https://localhost:8080/",
          "height": 286
        },
        "outputId": "40c97994-3fa2-48e5-98f9-2451369f1ece"
      },
      "source": [
        "v1 = np.array([2,-4])\n",
        "v2 = np.array([4,6])\n",
        "v3 = v1+v2\n",
        "v3 = np.add(v1,v2)\n",
        "print('V3 =' ,v3)\n",
        "plt.plot([0,v1[0]] , [0,v1[1]] , 'r' , label = 'v1')\n",
        "plt.plot([0,v2[0]] , [0,v2[1]], 'b' , label = 'v2')\n",
        "plt.plot([0,v3[0]] , [0,v3[1]] , 'g' , label = 'v3')\n",
        "plt.plot([8,-8] , [0,0] , 'k--')\n",
        "plt.plot([0,0] , [8,-8] , 'k--')\n",
        "plt.grid()\n",
        "plt.axis((-8, 8, -8, 8))\n",
        "plt.legend()\n",
        "plt.show()"
      ],
      "execution_count": 22,
      "outputs": [
        {
          "output_type": "stream",
          "text": [
            "V3 = [6 2]\n"
          ],
          "name": "stdout"
        },
        {
          "output_type": "display_data",
          "data": {
            "image/png": "[encoded data removed]",
            "text/plain": [
              "<Figure size 432x288 with 1 Axes>"
            ]
          },
          "metadata": {
            "tags": [],
            "needs_background": "light"
          }
        }
      ]
    },
    {
      "cell_type": "code",
      "metadata": {
        "id": "XYVWJGQPmj78",
        "colab": {
          "base_uri": "https://localhost:8080/",
          "height": 269
        },
        "outputId": "094e73fa-f0cf-4aac-dc55-bae1e5858c7a"
      },
      "source": [
        "plt.plot([0,v1[0]] , [0,v1[1]] , 'r' , label = 'vetor v1')\n",
        "plt.plot([0,v2[0]]+v1[0] , [0,v2[1]]+v1[1], 'b' , label = 'vetor v2')\n",
        "plt.plot([0,v3[0]] , [0,v3[1]] , 'g' , label = 'vetor v3')\n",
        "plt.plot([8,-8] , [0,0] , 'k--')\n",
        "plt.plot([0,0] , [8,-8] , 'k--')\n",
        "plt.grid()\n",
        "plt.axis((-8, 8, -8, 8))\n",
        "plt.legend()\n",
        "plt.show()"
      ],
      "execution_count": 23,
      "outputs": [
        {
          "output_type": "display_data",
          "data": {
            "image/png": "[encoded data removed]",
            "text/plain": [
              "<Figure size 432x288 with 1 Axes>"
            ]
          },
          "metadata": {
            "tags": [],
            "needs_background": "light"
          }
        }
      ]
    },
    {
      "cell_type": "markdown",
      "metadata": {
        "id": "NjPbeH_qmpZy"
      },
      "source": [
        "# **Multiplicação de vetor por um escalar**"
      ]
    },
    {
      "cell_type": "code",
      "metadata": {
        "id": "JwgxlvT7mwBW",
        "colab": {
          "base_uri": "https://localhost:8080/",
          "height": 269
        },
        "outputId": "fa9ed38c-073c-4edf-d677-c53633b7b12a"
      },
      "source": [
        "u1 = np.array([4,4])\n",
        "a = .5\n",
        "u2 = u1*a\n",
        "plt.plot([0,u1[0]] , [0,u1[1]] , 'r' , label = 'v1')\n",
        "plt.plot([0,u2[0]] , [0,u2[1]], 'b--' , label = 'v2')\n",
        "plt.plot([8,-8] , [0,0] , 'k--')\n",
        "plt.plot([0,0] , [8,-8] , 'k--')\n",
        "plt.grid()\n",
        "plt.axis((-8, 8, -8, 8))\n",
        "plt.legend()\n",
        "plt.show()"
      ],
      "execution_count": 24,
      "outputs": [
        {
          "output_type": "display_data",
          "data": {
            "image/png": "[encoded data removed]",
            "text/plain": [
              "<Figure size 432x288 with 1 Axes>"
            ]
          },
          "metadata": {
            "tags": [],
            "needs_background": "light"
          }
        }
      ]
    },
    {
      "cell_type": "code",
      "metadata": {
        "id": "JJTaXk6JmzM2",
        "colab": {
          "base_uri": "https://localhost:8080/",
          "height": 269
        },
        "outputId": "b6af1e48-0720-43a0-b0ac-0b5e16aadb84"
      },
      "source": [
        "u1 = np.array([4,4])\n",
        "a = -.3\n",
        "u2 = u1*a\n",
        "plt.plot([0,u1[0]] , [0,u1[1]] , 'r' , label = 'v1')\n",
        "plt.plot([0,u2[0]] , [0,u2[1]], 'b' , label = 'v2')\n",
        "plt.plot([8,-8] , [0,0] , 'k--')\n",
        "plt.plot([0,0] , [8,-8] , 'k--')\n",
        "plt.grid()\n",
        "plt.axis((-8, 8, -8, 8))\n",
        "plt.legend()\n",
        "plt.show()"
      ],
      "execution_count": 25,
      "outputs": [
        {
          "output_type": "display_data",
          "data": {
            "image/png": "[encoded data removed]",
            "text/plain": [
              "<Figure size 432x288 with 1 Axes>"
            ]
          },
          "metadata": {
            "tags": [],
            "needs_background": "light"
          }
        }
      ]
    },
    {
      "cell_type": "markdown",
      "metadata": {
        "id": "xeTpgersm5L5"
      },
      "source": [
        "# **Multiplicação de vetores**"
      ]
    },
    {
      "cell_type": "code",
      "metadata": {
        "id": "70BJBZkQm4qS",
        "colab": {
          "base_uri": "https://localhost:8080/"
        },
        "outputId": "7c770bed-620c-412a-fba8-7bc63a2e0a8a"
      },
      "source": [
        "a1 = [2,4,6]\n",
        "a2 = [3,5,1]\n",
        "print(np.multiply(a1,a2))"
      ],
      "execution_count": 26,
      "outputs": [
        {
          "output_type": "stream",
          "text": [
            "[ 6 20  6]\n"
          ],
          "name": "stdout"
        }
      ]
    },
    {
      "cell_type": "markdown",
      "metadata": {
        "id": "oPiPKYO8nGsx"
      },
      "source": [
        "# **Produto interno**"
      ]
    },
    {
      "cell_type": "code",
      "metadata": {
        "id": "MNXxdHzLnJhf",
        "colab": {
          "base_uri": "https://localhost:8080/"
        },
        "outputId": "ccf9329b-94bc-464a-e9be-f51840ed2ab0"
      },
      "source": [
        "a1 = np.array([2,4,6])\n",
        "a2 = np.array([3,5,1])\n",
        "\n",
        "dotp = a1@a2\n",
        "print(\" Dot product - \",dotp)\n",
        "\n",
        "dotp = np.dot(a1,a2)\n",
        "print(\" Dot product usign np.dot\",dotp)\n",
        "\n",
        "dotp = np.inner(a1,a2)\n",
        "print(\" Dot product usign np.inner\", dotp)\n",
        "\n",
        "dotp = sum(np.multiply(a1,a2))\n",
        "print(\" Dot product usign np.multiply & sum\",dotp)\n",
        "\n",
        "dotp = np.matmul(a1,a2)\n",
        "print(\" Dot product usign np.matmul\",dotp)\n",
        "\n",
        "dotp = 0\n",
        "for i in range(len(a1)):\n",
        "    dotp = dotp + a1[i]*a2[i]\n",
        "print(\" Dot product usign for loop\" , dotp)"
      ],
      "execution_count": 27,
      "outputs": [
        {
          "output_type": "stream",
          "text": [
            " Dot product -  32\n",
            " Dot product usign np.dot 32\n",
            " Dot product usign np.inner 32\n",
            " Dot product usign np.multiply & sum 32\n",
            " Dot product usign np.matmul 32\n",
            " Dot product usign for loop 32\n"
          ],
          "name": "stdout"
        }
      ]
    },
    {
      "cell_type": "markdown",
      "metadata": {
        "id": "WwkowqB3nQeS"
      },
      "source": [
        "# **Tamanho de um vetor**"
      ]
    },
    {
      "cell_type": "code",
      "metadata": {
        "id": "3-7UiEs_nTzm",
        "colab": {
          "base_uri": "https://localhost:8080/"
        },
        "outputId": "17197c9a-9263-442d-f589-bde5e5d7b0a4"
      },
      "source": [
        "v3 = np.array([1,2,3,4,5,6,7])\n",
        "length = np.sqrt(np.dot(v3,v3))\n",
        "length"
      ],
      "execution_count": 28,
      "outputs": [
        {
          "output_type": "execute_result",
          "data": {
            "text/plain": [
              "11.832159566199232"
            ]
          },
          "metadata": {
            "tags": []
          },
          "execution_count": 28
        }
      ]
    },
    {
      "cell_type": "code",
      "metadata": {
        "id": "HXySm-14nXY-",
        "colab": {
          "base_uri": "https://localhost:8080/"
        },
        "outputId": "6990f6a6-21de-4570-e904-f6c975d2b7b5"
      },
      "source": [
        "v3 = np.array([1,2,3,4,5,6,7])\n",
        "length = np.sqrt(sum(np.multiply(v3,v3)))\n",
        "length"
      ],
      "execution_count": 29,
      "outputs": [
        {
          "output_type": "execute_result",
          "data": {
            "text/plain": [
              "11.832159566199232"
            ]
          },
          "metadata": {
            "tags": []
          },
          "execution_count": 29
        }
      ]
    },
    {
      "cell_type": "code",
      "metadata": {
        "id": "FB30egKMnXJX",
        "colab": {
          "base_uri": "https://localhost:8080/"
        },
        "outputId": "8fbbbaed-6522-429a-fe29-8bed4ff4164d"
      },
      "source": [
        "v3 = np.array([1,2,3,4,5,6,7])\n",
        "length = np.sqrt(np.matmul(v3,v3))\n",
        "length"
      ],
      "execution_count": 30,
      "outputs": [
        {
          "output_type": "execute_result",
          "data": {
            "text/plain": [
              "11.832159566199232"
            ]
          },
          "metadata": {
            "tags": []
          },
          "execution_count": 30
        }
      ]
    },
    {
      "cell_type": "markdown",
      "metadata": {
        "id": "WMkAbg9snc__"
      },
      "source": [
        "# **Vetor normalizado**"
      ]
    },
    {
      "cell_type": "code",
      "metadata": {
        "id": "MYR-j14LngF6",
        "colab": {
          "base_uri": "https://localhost:8080/"
        },
        "outputId": "be4d5ac6-3c32-4f21-a0c3-711a24ac1943"
      },
      "source": [
        "v1 = [1,1]\n",
        "length_v1 = np.sqrt(np.dot(v1,v1))\n",
        "norm_v1 = v1/length_v1\n",
        "length_v1 , norm_v1"
      ],
      "execution_count": 31,
      "outputs": [
        {
          "output_type": "execute_result",
          "data": {
            "text/plain": [
              "(1.4142135623730951, array([0.70710678, 0.70710678]))"
            ]
          },
          "metadata": {
            "tags": []
          },
          "execution_count": 31
        }
      ]
    },
    {
      "cell_type": "code",
      "metadata": {
        "id": "Fk4NuG0xnkGS",
        "colab": {
          "base_uri": "https://localhost:8080/"
        },
        "outputId": "35aa4dab-4929-4d84-d60b-5c3c6a4d5e43"
      },
      "source": [
        "v1 = [1,1]\n",
        "norm_v1 = v1/np.linalg.norm(v1)\n",
        "norm_v1"
      ],
      "execution_count": 32,
      "outputs": [
        {
          "output_type": "execute_result",
          "data": {
            "text/plain": [
              "array([0.70710678, 0.70710678])"
            ]
          },
          "metadata": {
            "tags": []
          },
          "execution_count": 32
        }
      ]
    },
    {
      "cell_type": "markdown",
      "metadata": {
        "id": "0RI8AEuHnnAM"
      },
      "source": [
        "# **Ângulo entre vetores**"
      ]
    },
    {
      "cell_type": "code",
      "metadata": {
        "id": "nYtu0-bFnrrP",
        "colab": {
          "base_uri": "https://localhost:8080/",
          "height": 281
        },
        "outputId": "3a94aeed-3fe6-4c56-9990-91e2de00d696"
      },
      "source": [
        "#First Method\n",
        "v1 = np.array([5,5])\n",
        "v2 = np.array([-5,5])\n",
        "ang = np.rad2deg(np.arccos( np.dot(v1,v2) / (np.linalg.norm(v1)*np.linalg.norm(v2))))\n",
        "plt.plot([0,v1[0]] , [0,v1[1]] , 'r' , label = 'v1')\n",
        "plt.plot([0,v2[0]]+v1[0] , [0,v2[1]]+v1[1], 'b' , label = 'v2')\n",
        "plt.plot([15,-15] , [0,0] , 'k--')\n",
        "plt.plot([0,0] , [15,-15] , 'k--')\n",
        "plt.grid()\n",
        "plt.axis((-15, 15, -15, 15))\n",
        "plt.legend()\n",
        "plt.title('Angulo entre vetores - %s'  %ang)\n",
        "plt.show()"
      ],
      "execution_count": 33,
      "outputs": [
        {
          "output_type": "display_data",
          "data": {
            "image/png": "[encoded data removed]",
            "text/plain": [
              "<Figure size 432x288 with 1 Axes>"
            ]
          },
          "metadata": {
            "tags": [],
            "needs_background": "light"
          }
        }
      ]
    },
    {
      "cell_type": "code",
      "metadata": {
        "id": "DJh0vpWPnveO",
        "colab": {
          "base_uri": "https://localhost:8080/"
        },
        "outputId": "081bc4e0-97a0-448c-f644-41ecf58f65c7"
      },
      "source": [
        "#Second Method\n",
        "v1 = np.array([5,5])\n",
        "v2 = np.array([-5,5])\n",
        "lengthV1 = np.sqrt(np.dot(v1,v1)) \n",
        "lengthV2  = np.sqrt(np.dot(v2,v2))\n",
        "ang = np.rad2deg(np.arccos( np.dot(v1,v2) / (lengthV1 * lengthV2)))\n",
        "print('Angulo entre vetores - %s' %ang)"
      ],
      "execution_count": 34,
      "outputs": [
        {
          "output_type": "stream",
          "text": [
            "Angulo entre vetores - 90.0\n"
          ],
          "name": "stdout"
        }
      ]
    },
    {
      "cell_type": "code",
      "metadata": {
        "id": "tIovRkXcn0KR",
        "colab": {
          "base_uri": "https://localhost:8080/",
          "height": 336
        },
        "outputId": "9b5cb59d-f0f8-4459-cbfa-c294812432e6"
      },
      "source": [
        "v1 = np.array([5,2,-3])\n",
        "v2 = np.array([7,-1,2])\n",
        "fig = plt.figure()\n",
        "ax = Axes3D(fig)\n",
        "ax.plot([0, v1[0]],[0, v1[1]],[0, v1[2]],'b')\n",
        "ax.plot([0, v2[0]],[0, v2[1]],[0, v2[2]],'r')\n",
        "ang = np.rad2deg(np.arccos( np.dot(v1,v2) / (np.linalg.norm(v1)*np.linalg.norm(v2)) ))\n",
        "plt.title('Angulo entre vetores: %s degrees.' %ang)"
      ],
      "execution_count": 35,
      "outputs": [
        {
          "output_type": "execute_result",
          "data": {
            "text/plain": [
              "Text(0.5, 0.92, 'Angulo entre vetores: 53.41322444637054 degrees.')"
            ]
          },
          "metadata": {
            "tags": []
          },
          "execution_count": 35
        },
        {
          "output_type": "display_data",
          "data": {
            "image/png": "[encoded data removed]",
            "text/plain": [
              "<Figure size 432x288 with 1 Axes>"
            ]
          },
          "metadata": {
            "tags": [],
            "needs_background": "light"
          }
        }
      ]
    },
    {
      "cell_type": "markdown",
      "metadata": {
        "id": "UiNRRF_Fn_T-"
      },
      "source": [
        "# **Produtos interno e externo**"
      ]
    },
    {
      "cell_type": "code",
      "metadata": {
        "id": "A9tOn8FWoB0x",
        "colab": {
          "base_uri": "https://localhost:8080/"
        },
        "outputId": "7e617e61-61b4-4d9e-c1c9-0cae59670802"
      },
      "source": [
        "v1 = np.array([1,2,1])\n",
        "v2 = np.array([2,1,2])\n",
        "np.inner(v1,v2)\n",
        "\n",
        "print(\"\\n Inner Product ==>  \\n\", np.inner(v1,v2))\n",
        "print(\"\\n Outer Product ==>  \\n\", np.outer(v1,v2))"
      ],
      "execution_count": 36,
      "outputs": [
        {
          "output_type": "stream",
          "text": [
            "\n",
            " Inner Product ==>  \n",
            " 6\n",
            "\n",
            " Outer Product ==>  \n",
            " [[2 1 2]\n",
            " [4 2 4]\n",
            " [2 1 2]]\n"
          ],
          "name": "stdout"
        }
      ]
    },
    {
      "cell_type": "markdown",
      "metadata": {
        "id": "VIzCq5Xzo25O"
      },
      "source": [
        "# **Produto vetorial**"
      ]
    },
    {
      "cell_type": "code",
      "metadata": {
        "id": "eUT5cAJ4o7cr",
        "colab": {
          "base_uri": "https://localhost:8080/"
        },
        "outputId": "a7d57925-99c5-4315-a375-5b7ebed6cced"
      },
      "source": [
        "v1 = np.array([7,0,0])\n",
        "v2 = np.array([0,7,0])\n",
        "print(\"\\nVector Cross Product ==>  \\n\", np.cross(v1,v2))"
      ],
      "execution_count": 37,
      "outputs": [
        {
          "output_type": "stream",
          "text": [
            "\n",
            "Vector Cross Product ==>  \n",
            " [ 0  0 49]\n"
          ],
          "name": "stdout"
        }
      ]
    },
    {
      "cell_type": "markdown",
      "metadata": {
        "id": "uIezb1mApFlH"
      },
      "source": [
        "# **Operações com matrizes**"
      ]
    },
    {
      "cell_type": "markdown",
      "metadata": {
        "id": "TU4d76qvpLcP"
      },
      "source": [
        "# **Criação de matriz**"
      ]
    },
    {
      "cell_type": "code",
      "metadata": {
        "id": "no6HulWPpPVD",
        "colab": {
          "base_uri": "https://localhost:8080/"
        },
        "outputId": "50c46d6e-aec1-417b-af3b-1ca3f0efa509"
      },
      "source": [
        "A = np.array([[1,2,3,4],[5,6,7,8],[9,10,11,12],[13,14,15,16]])\n",
        "A"
      ],
      "execution_count": 38,
      "outputs": [
        {
          "output_type": "execute_result",
          "data": {
            "text/plain": [
              "array([[ 1,  2,  3,  4],\n",
              "       [ 5,  6,  7,  8],\n",
              "       [ 9, 10, 11, 12],\n",
              "       [13, 14, 15, 16]])"
            ]
          },
          "metadata": {
            "tags": []
          },
          "execution_count": 38
        }
      ]
    },
    {
      "cell_type": "code",
      "metadata": {
        "id": "DCG_ZRgjpV9V",
        "colab": {
          "base_uri": "https://localhost:8080/"
        },
        "outputId": "b58dffdf-cc58-466c-f580-5d1afce84ebd"
      },
      "source": [
        "type(A)"
      ],
      "execution_count": 39,
      "outputs": [
        {
          "output_type": "execute_result",
          "data": {
            "text/plain": [
              "numpy.ndarray"
            ]
          },
          "metadata": {
            "tags": []
          },
          "execution_count": 39
        }
      ]
    },
    {
      "cell_type": "code",
      "metadata": {
        "id": "tMu6nqnBpYP4",
        "colab": {
          "base_uri": "https://localhost:8080/"
        },
        "outputId": "2ddbc4e7-6407-49ba-f84f-b4c4bdd2629e"
      },
      "source": [
        "A.dtype"
      ],
      "execution_count": 40,
      "outputs": [
        {
          "output_type": "execute_result",
          "data": {
            "text/plain": [
              "dtype('int64')"
            ]
          },
          "metadata": {
            "tags": []
          },
          "execution_count": 40
        }
      ]
    },
    {
      "cell_type": "code",
      "metadata": {
        "id": "WbAL43IGpep9",
        "colab": {
          "base_uri": "https://localhost:8080/"
        },
        "outputId": "e225d490-3847-4e5c-a12d-6e8dc4e94af4"
      },
      "source": [
        "B = np.array([[2.7,6.03,3,4],[5,6,7,8],[9,10,11,12],[13,14,15,16]])\n",
        "B"
      ],
      "execution_count": 41,
      "outputs": [
        {
          "output_type": "execute_result",
          "data": {
            "text/plain": [
              "array([[ 2.7 ,  6.03,  3.  ,  4.  ],\n",
              "       [ 5.  ,  6.  ,  7.  ,  8.  ],\n",
              "       [ 9.  , 10.  , 11.  , 12.  ],\n",
              "       [13.  , 14.  , 15.  , 16.  ]])"
            ]
          },
          "metadata": {
            "tags": []
          },
          "execution_count": 41
        }
      ]
    },
    {
      "cell_type": "code",
      "metadata": {
        "id": "dfNBVRXipk27",
        "colab": {
          "base_uri": "https://localhost:8080/"
        },
        "outputId": "17fc5b50-5a3a-466d-b769-f337b5e00d5a"
      },
      "source": [
        "type(B)"
      ],
      "execution_count": 42,
      "outputs": [
        {
          "output_type": "execute_result",
          "data": {
            "text/plain": [
              "numpy.ndarray"
            ]
          },
          "metadata": {
            "tags": []
          },
          "execution_count": 42
        }
      ]
    },
    {
      "cell_type": "code",
      "metadata": {
        "id": "dkM_PDyNpnZb",
        "colab": {
          "base_uri": "https://localhost:8080/"
        },
        "outputId": "5b9e60a8-a960-4f85-b648-227050e287f5"
      },
      "source": [
        "B.dtype"
      ],
      "execution_count": 43,
      "outputs": [
        {
          "output_type": "execute_result",
          "data": {
            "text/plain": [
              "dtype('float64')"
            ]
          },
          "metadata": {
            "tags": []
          },
          "execution_count": 43
        }
      ]
    },
    {
      "cell_type": "code",
      "metadata": {
        "id": "aNv0W4jJpqei",
        "colab": {
          "base_uri": "https://localhost:8080/"
        },
        "outputId": "f4f3e897-4209-4f1a-b67e-3c9881fa7239"
      },
      "source": [
        "A.shape"
      ],
      "execution_count": 44,
      "outputs": [
        {
          "output_type": "execute_result",
          "data": {
            "text/plain": [
              "(4, 4)"
            ]
          },
          "metadata": {
            "tags": []
          },
          "execution_count": 44
        }
      ]
    },
    {
      "cell_type": "code",
      "metadata": {
        "id": "08v4BMqVpsdl",
        "colab": {
          "base_uri": "https://localhost:8080/"
        },
        "outputId": "4a8632b9-d716-4220-9532-1e2b70aeaad3"
      },
      "source": [
        "A[0,]"
      ],
      "execution_count": 45,
      "outputs": [
        {
          "output_type": "execute_result",
          "data": {
            "text/plain": [
              "array([1, 2, 3, 4])"
            ]
          },
          "metadata": {
            "tags": []
          },
          "execution_count": 45
        }
      ]
    },
    {
      "cell_type": "code",
      "metadata": {
        "id": "WidmVReupuuN",
        "colab": {
          "base_uri": "https://localhost:8080/"
        },
        "outputId": "81657a02-063a-41f7-ea35-51a728e2c953"
      },
      "source": [
        "A[:,0]"
      ],
      "execution_count": 46,
      "outputs": [
        {
          "output_type": "execute_result",
          "data": {
            "text/plain": [
              "array([ 1,  5,  9, 13])"
            ]
          },
          "metadata": {
            "tags": []
          },
          "execution_count": 46
        }
      ]
    },
    {
      "cell_type": "code",
      "metadata": {
        "id": "ZGCk635Rpwzg",
        "colab": {
          "base_uri": "https://localhost:8080/"
        },
        "outputId": "6b3303e8-ea31-4592-db2d-6d4e7ac6dd1f"
      },
      "source": [
        "A[0,0]"
      ],
      "execution_count": 47,
      "outputs": [
        {
          "output_type": "execute_result",
          "data": {
            "text/plain": [
              "1"
            ]
          },
          "metadata": {
            "tags": []
          },
          "execution_count": 47
        }
      ]
    },
    {
      "cell_type": "code",
      "metadata": {
        "id": "V8QcWnzPpzHB",
        "colab": {
          "base_uri": "https://localhost:8080/"
        },
        "outputId": "02dc3d8b-1e0d-451f-ecb9-8846c68f2adf"
      },
      "source": [
        "A[0][0]"
      ],
      "execution_count": 48,
      "outputs": [
        {
          "output_type": "execute_result",
          "data": {
            "text/plain": [
              "1"
            ]
          },
          "metadata": {
            "tags": []
          },
          "execution_count": 48
        }
      ]
    },
    {
      "cell_type": "code",
      "metadata": {
        "id": "NH4VlkOip1st",
        "colab": {
          "base_uri": "https://localhost:8080/"
        },
        "outputId": "8001239e-aeb7-43a4-fdc2-72e13866cdc6"
      },
      "source": [
        "A[1:3 , 1:3]"
      ],
      "execution_count": 49,
      "outputs": [
        {
          "output_type": "execute_result",
          "data": {
            "text/plain": [
              "array([[ 6,  7],\n",
              "       [10, 11]])"
            ]
          },
          "metadata": {
            "tags": []
          },
          "execution_count": 49
        }
      ]
    },
    {
      "cell_type": "markdown",
      "metadata": {
        "id": "_hwlu9mDqQ-Y"
      },
      "source": [
        "# **Matriz de zeros**"
      ]
    },
    {
      "cell_type": "code",
      "metadata": {
        "id": "xvrl86UzqS1a",
        "colab": {
          "base_uri": "https://localhost:8080/"
        },
        "outputId": "7f6886b3-3956-4abc-ee5e-06a2f7560312"
      },
      "source": [
        "np.zeros(36).reshape(6,6)"
      ],
      "execution_count": 50,
      "outputs": [
        {
          "output_type": "execute_result",
          "data": {
            "text/plain": [
              "array([[0., 0., 0., 0., 0., 0.],\n",
              "       [0., 0., 0., 0., 0., 0.],\n",
              "       [0., 0., 0., 0., 0., 0.],\n",
              "       [0., 0., 0., 0., 0., 0.],\n",
              "       [0., 0., 0., 0., 0., 0.],\n",
              "       [0., 0., 0., 0., 0., 0.]])"
            ]
          },
          "metadata": {
            "tags": []
          },
          "execution_count": 50
        }
      ]
    },
    {
      "cell_type": "code",
      "metadata": {
        "id": "y6_UTaKGqVbN",
        "colab": {
          "base_uri": "https://localhost:8080/"
        },
        "outputId": "eaaf7ddb-e75f-470a-8f40-2418db1534b4"
      },
      "source": [
        "np.zeros((6,6))"
      ],
      "execution_count": 51,
      "outputs": [
        {
          "output_type": "execute_result",
          "data": {
            "text/plain": [
              "array([[0., 0., 0., 0., 0., 0.],\n",
              "       [0., 0., 0., 0., 0., 0.],\n",
              "       [0., 0., 0., 0., 0., 0.],\n",
              "       [0., 0., 0., 0., 0., 0.],\n",
              "       [0., 0., 0., 0., 0., 0.],\n",
              "       [0., 0., 0., 0., 0., 0.]])"
            ]
          },
          "metadata": {
            "tags": []
          },
          "execution_count": 51
        }
      ]
    },
    {
      "cell_type": "markdown",
      "metadata": {
        "id": "-km3MAGPqgGZ"
      },
      "source": [
        "# **Matriz de 1's**"
      ]
    },
    {
      "cell_type": "code",
      "metadata": {
        "id": "Hyjh1FJjqoN4",
        "colab": {
          "base_uri": "https://localhost:8080/"
        },
        "outputId": "bb0f16d3-e973-4e86-c58c-83b37ac88864"
      },
      "source": [
        "np.ones(25).reshape(5,5)"
      ],
      "execution_count": 52,
      "outputs": [
        {
          "output_type": "execute_result",
          "data": {
            "text/plain": [
              "array([[1., 1., 1., 1., 1.],\n",
              "       [1., 1., 1., 1., 1.],\n",
              "       [1., 1., 1., 1., 1.],\n",
              "       [1., 1., 1., 1., 1.],\n",
              "       [1., 1., 1., 1., 1.]])"
            ]
          },
          "metadata": {
            "tags": []
          },
          "execution_count": 52
        }
      ]
    },
    {
      "cell_type": "code",
      "metadata": {
        "id": "JW0wecPlqr_K",
        "colab": {
          "base_uri": "https://localhost:8080/"
        },
        "outputId": "3daff3a5-8de4-4464-adcf-322b95e1c0ef"
      },
      "source": [
        "np.ones((5,5))"
      ],
      "execution_count": 53,
      "outputs": [
        {
          "output_type": "execute_result",
          "data": {
            "text/plain": [
              "array([[1., 1., 1., 1., 1.],\n",
              "       [1., 1., 1., 1., 1.],\n",
              "       [1., 1., 1., 1., 1.],\n",
              "       [1., 1., 1., 1., 1.],\n",
              "       [1., 1., 1., 1., 1.]])"
            ]
          },
          "metadata": {
            "tags": []
          },
          "execution_count": 53
        }
      ]
    },
    {
      "cell_type": "markdown",
      "metadata": {
        "id": "q7DVgrY4qwOH"
      },
      "source": [
        "# **Matriz de números aleatórios**"
      ]
    },
    {
      "cell_type": "code",
      "metadata": {
        "id": "1HAYBKS5q0qO",
        "colab": {
          "base_uri": "https://localhost:8080/"
        },
        "outputId": "f2be9c49-0747-4652-cc96-49705b4adbae"
      },
      "source": [
        "X = np.random.random((3,4))\n",
        "X"
      ],
      "execution_count": 54,
      "outputs": [
        {
          "output_type": "execute_result",
          "data": {
            "text/plain": [
              "array([[0.53397137, 0.58065504, 0.32512569, 0.90971213],\n",
              "       [0.45705303, 0.4927677 , 0.61340607, 0.30473222],\n",
              "       [0.34779196, 0.6856701 , 0.70559851, 0.28757412]])"
            ]
          },
          "metadata": {
            "tags": []
          },
          "execution_count": 54
        }
      ]
    },
    {
      "cell_type": "markdown",
      "metadata": {
        "id": "s9EuOEf7q4SS"
      },
      "source": [
        "# **Matriz identidade**"
      ]
    },
    {
      "cell_type": "code",
      "metadata": {
        "id": "iJ6yb2VZq7WY",
        "colab": {
          "base_uri": "https://localhost:8080/"
        },
        "outputId": "b5a4d719-9f57-46bf-c09b-87ff2afe4d33"
      },
      "source": [
        "I = np.eye(7)\n",
        "I"
      ],
      "execution_count": 55,
      "outputs": [
        {
          "output_type": "execute_result",
          "data": {
            "text/plain": [
              "array([[1., 0., 0., 0., 0., 0., 0.],\n",
              "       [0., 1., 0., 0., 0., 0., 0.],\n",
              "       [0., 0., 1., 0., 0., 0., 0.],\n",
              "       [0., 0., 0., 1., 0., 0., 0.],\n",
              "       [0., 0., 0., 0., 1., 0., 0.],\n",
              "       [0., 0., 0., 0., 0., 1., 0.],\n",
              "       [0., 0., 0., 0., 0., 0., 1.]])"
            ]
          },
          "metadata": {
            "tags": []
          },
          "execution_count": 55
        }
      ]
    },
    {
      "cell_type": "markdown",
      "metadata": {
        "id": "weuVTYLxrCQa"
      },
      "source": [
        "# **Matriz diagonal**"
      ]
    },
    {
      "cell_type": "code",
      "metadata": {
        "id": "jrZ8RV6crHUN",
        "colab": {
          "base_uri": "https://localhost:8080/"
        },
        "outputId": "2118dd9a-69ab-4eb0-9968-88aebb671e75"
      },
      "source": [
        "D = np.diag([1,2,3,4,5,6,7])\n",
        "D"
      ],
      "execution_count": 56,
      "outputs": [
        {
          "output_type": "execute_result",
          "data": {
            "text/plain": [
              "array([[1, 0, 0, 0, 0, 0, 0],\n",
              "       [0, 2, 0, 0, 0, 0, 0],\n",
              "       [0, 0, 3, 0, 0, 0, 0],\n",
              "       [0, 0, 0, 4, 0, 0, 0],\n",
              "       [0, 0, 0, 0, 5, 0, 0],\n",
              "       [0, 0, 0, 0, 0, 6, 0],\n",
              "       [0, 0, 0, 0, 0, 0, 7]])"
            ]
          },
          "metadata": {
            "tags": []
          },
          "execution_count": 56
        }
      ]
    },
    {
      "cell_type": "markdown",
      "metadata": {
        "id": "uM8hlDeNrMr_"
      },
      "source": [
        "# **Matrizes triangulares (superior e inferior)**"
      ]
    },
    {
      "cell_type": "code",
      "metadata": {
        "id": "NBqGynhbrRf7",
        "colab": {
          "base_uri": "https://localhost:8080/"
        },
        "outputId": "e5c14c8b-1826-4a69-f624-11bb11150c19"
      },
      "source": [
        "M = np.random.randn(5,5)\n",
        "U = np.triu(M)\n",
        "L = np.tril(M)\n",
        "print(\"matriz aleatória \\n\" , M)\n",
        "print(\"\\n\")\n",
        "\n",
        "\n",
        "print(\"matriz triangular inferior \\n\" , L)\n",
        "print(\"\\n\")\n",
        "\n",
        "print(\"matriz triangular superior \\n\" , U)"
      ],
      "execution_count": 57,
      "outputs": [
        {
          "output_type": "stream",
          "text": [
            "matriz aleatória \n",
            " [[-2.17576846  0.33262008  0.4093531  -1.10185554 -0.94736601]\n",
            " [ 0.25209     0.3011718  -0.72327479 -1.54251485 -1.19783959]\n",
            " [ 0.2553803   0.48403065 -0.88881891  0.52947003 -0.24585781]\n",
            " [-0.55550854  0.39665683 -0.05425757  0.67720513 -0.55145749]\n",
            " [-1.06509044  1.124052   -1.99757239  2.10018809  0.4990478 ]]\n",
            "\n",
            "\n",
            "matriz triangular inferior \n",
            " [[-2.17576846  0.          0.          0.          0.        ]\n",
            " [ 0.25209     0.3011718   0.          0.          0.        ]\n",
            " [ 0.2553803   0.48403065 -0.88881891  0.          0.        ]\n",
            " [-0.55550854  0.39665683 -0.05425757  0.67720513  0.        ]\n",
            " [-1.06509044  1.124052   -1.99757239  2.10018809  0.4990478 ]]\n",
            "\n",
            "\n",
            "matriz triangular superior \n",
            " [[-2.17576846  0.33262008  0.4093531  -1.10185554 -0.94736601]\n",
            " [ 0.          0.3011718  -0.72327479 -1.54251485 -1.19783959]\n",
            " [ 0.          0.         -0.88881891  0.52947003 -0.24585781]\n",
            " [ 0.          0.          0.          0.67720513 -0.55145749]\n",
            " [ 0.          0.          0.          0.          0.4990478 ]]\n"
          ],
          "name": "stdout"
        }
      ]
    },
    {
      "cell_type": "markdown",
      "metadata": {
        "id": "Z09_GZQqruDR"
      },
      "source": [
        "# **Concatenação de matrizes**"
      ]
    },
    {
      "cell_type": "code",
      "metadata": {
        "id": "WBHpUpbYry8N",
        "colab": {
          "base_uri": "https://localhost:8080/"
        },
        "outputId": "a051fb4e-9fb1-435f-b4f9-855153628eaf"
      },
      "source": [
        "A = np.array([[1,2] , [3,4] ,[5,6]])\n",
        "B = np.array([[9,2] , [3,-3]])\n",
        "C = np.concatenate((A,B))\n",
        "C , C.shape , type(C) , C.dtype"
      ],
      "execution_count": 58,
      "outputs": [
        {
          "output_type": "execute_result",
          "data": {
            "text/plain": [
              "(array([[ 1,  2],\n",
              "        [ 3,  4],\n",
              "        [ 5,  6],\n",
              "        [ 9,  2],\n",
              "        [ 3, -3]]), (5, 2), numpy.ndarray, dtype('int64'))"
            ]
          },
          "metadata": {
            "tags": []
          },
          "execution_count": 58
        }
      ]
    },
    {
      "cell_type": "code",
      "metadata": {
        "id": "yuisEm72r2vl",
        "colab": {
          "base_uri": "https://localhost:8080/"
        },
        "outputId": "f9f3ad93-8c5e-464f-a7b8-087230599d3e"
      },
      "source": [
        "np.full((7,7) , 4)"
      ],
      "execution_count": 59,
      "outputs": [
        {
          "output_type": "execute_result",
          "data": {
            "text/plain": [
              "array([[4, 4, 4, 4, 4, 4, 4],\n",
              "       [4, 4, 4, 4, 4, 4, 4],\n",
              "       [4, 4, 4, 4, 4, 4, 4],\n",
              "       [4, 4, 4, 4, 4, 4, 4],\n",
              "       [4, 4, 4, 4, 4, 4, 4],\n",
              "       [4, 4, 4, 4, 4, 4, 4],\n",
              "       [4, 4, 4, 4, 4, 4, 4]])"
            ]
          },
          "metadata": {
            "tags": []
          },
          "execution_count": 59
        }
      ]
    },
    {
      "cell_type": "code",
      "metadata": {
        "id": "Bj623zz4r42L",
        "colab": {
          "base_uri": "https://localhost:8080/"
        },
        "outputId": "18cf2577-7bc3-442b-d71e-76fe8c419260"
      },
      "source": [
        "M = np.array([[1,2,3],[4,-3,6],[8,7,0]])\n",
        "M"
      ],
      "execution_count": 60,
      "outputs": [
        {
          "output_type": "execute_result",
          "data": {
            "text/plain": [
              "array([[ 1,  2,  3],\n",
              "       [ 4, -3,  6],\n",
              "       [ 8,  7,  0]])"
            ]
          },
          "metadata": {
            "tags": []
          },
          "execution_count": 60
        }
      ]
    },
    {
      "cell_type": "code",
      "metadata": {
        "id": "z729j4pVsnxT",
        "colab": {
          "base_uri": "https://localhost:8080/"
        },
        "outputId": "e721a7d9-9de7-4187-c0a6-b422a369ca01"
      },
      "source": [
        "M.flatten()"
      ],
      "execution_count": 61,
      "outputs": [
        {
          "output_type": "execute_result",
          "data": {
            "text/plain": [
              "array([ 1,  2,  3,  4, -3,  6,  8,  7,  0])"
            ]
          },
          "metadata": {
            "tags": []
          },
          "execution_count": 61
        }
      ]
    },
    {
      "cell_type": "markdown",
      "metadata": {
        "id": "iHrCNDpnstjZ"
      },
      "source": [
        "# **Soma de matrizes**"
      ]
    },
    {
      "cell_type": "code",
      "metadata": {
        "id": "QShEsmZNswSe",
        "colab": {
          "base_uri": "https://localhost:8080/"
        },
        "outputId": "39836f84-2d44-40e9-d482-604ac0171153"
      },
      "source": [
        "M = np.array([[1,2,3],[4,-3,6],[7,8,0]])\n",
        "N = np.array([[5,5,5],[6,6,6],[7,7,7]])\n",
        "\n",
        "print(\"\\n Primeira matriz (M)  ==>  \\n\", M)\n",
        "print(\"\\n Segunda matriz (N)  ==>  \\n\", N)\n",
        "\n",
        "C = M+N\n",
        "print(\"\\n soma (M+N)  ==>  \\n\", C)\n",
        "\n",
        "# ou\n",
        "\n",
        "C = np.add(M,N,dtype = np.float64)\n",
        "print(\"\\n soma usando np.add  ==>  \\n\", C)"
      ],
      "execution_count": 62,
      "outputs": [
        {
          "output_type": "stream",
          "text": [
            "\n",
            " Primeira matriz (M)  ==>  \n",
            " [[ 1  2  3]\n",
            " [ 4 -3  6]\n",
            " [ 7  8  0]]\n",
            "\n",
            " Segunda matriz (N)  ==>  \n",
            " [[5 5 5]\n",
            " [6 6 6]\n",
            " [7 7 7]]\n",
            "\n",
            " soma (M+N)  ==>  \n",
            " [[ 6  7  8]\n",
            " [10  3 12]\n",
            " [14 15  7]]\n",
            "\n",
            " soma usando np.add  ==>  \n",
            " [[ 6.  7.  8.]\n",
            " [10.  3. 12.]\n",
            " [14. 15.  7.]]\n"
          ],
          "name": "stdout"
        }
      ]
    },
    {
      "cell_type": "markdown",
      "metadata": {
        "id": "sXtfQW7itBbX"
      },
      "source": [
        "# **Subtração de matrizes**"
      ]
    },
    {
      "cell_type": "code",
      "metadata": {
        "id": "3tfgDv1qtFDe",
        "colab": {
          "base_uri": "https://localhost:8080/"
        },
        "outputId": "7d212eee-8dbb-4258-b9f3-0045680bf27d"
      },
      "source": [
        "M = np.array([[1,2,3],[4,-3,6],[7,8,0]])\n",
        "N = np.array([[5,5,5],[6,6,6],[7,7,7]])\n",
        "\n",
        "print(\"\\n Primeira matriz (M)  ==>  \\n\", M)\n",
        "print(\"\\n Segunda matriz (N)  ==>  \\n\", N)\n",
        "\n",
        "C = M-N\n",
        "print(\"\\n Subtração (M-N)  ==>  \\n\", C)\n",
        "\n",
        "# ou\n",
        "\n",
        "C = np.subtract(M,N,dtype = np.float64)\n",
        "print(\"\\n Subtração usando np.subtract  ==>  \\n\", C)"
      ],
      "execution_count": 63,
      "outputs": [
        {
          "output_type": "stream",
          "text": [
            "\n",
            " Primeira matriz (M)  ==>  \n",
            " [[ 1  2  3]\n",
            " [ 4 -3  6]\n",
            " [ 7  8  0]]\n",
            "\n",
            " Segunda matriz (N)  ==>  \n",
            " [[5 5 5]\n",
            " [6 6 6]\n",
            " [7 7 7]]\n",
            "\n",
            " Subtração (M-N)  ==>  \n",
            " [[-4 -3 -2]\n",
            " [-2 -9  0]\n",
            " [ 0  1 -7]]\n",
            "\n",
            " Subtração usando np.subtract  ==>  \n",
            " [[-4. -3. -2.]\n",
            " [-2. -9.  0.]\n",
            " [ 0.  1. -7.]]\n"
          ],
          "name": "stdout"
        }
      ]
    },
    {
      "cell_type": "markdown",
      "metadata": {
        "id": "a_cio_EftWju"
      },
      "source": [
        "# **Multiplicação de matriz por escalar**"
      ]
    },
    {
      "cell_type": "code",
      "metadata": {
        "id": "wTLkJ55YtbfU",
        "colab": {
          "base_uri": "https://localhost:8080/"
        },
        "outputId": "80dd2fa2-c3dc-4940-e2b2-c04da983a982"
      },
      "source": [
        "M = np.array([[1,9,3],[2,-7,6],[8,7,0]])\n",
        "\n",
        "C = 20\n",
        "\n",
        "print(\"\\n Matriz (M)  ==>  \\n\", M)\n",
        "\n",
        "print(\"\\n Multiplicação por escalar ==>  \\n\", C*M)\n",
        "\n",
        "# ou\n",
        "\n",
        "print(\"\\n Multiplicação por escalar usando np.multiply ==>  \\n\", np.multiply(C,M))"
      ],
      "execution_count": 64,
      "outputs": [
        {
          "output_type": "stream",
          "text": [
            "\n",
            " Matriz (M)  ==>  \n",
            " [[ 1  9  3]\n",
            " [ 2 -7  6]\n",
            " [ 8  7  0]]\n",
            "\n",
            " Multiplicação por escalar ==>  \n",
            " [[  20  180   60]\n",
            " [  40 -140  120]\n",
            " [ 160  140    0]]\n",
            "\n",
            " Multiplicação por escalar usando np.multiply ==>  \n",
            " [[  20  180   60]\n",
            " [  40 -140  120]\n",
            " [ 160  140    0]]\n"
          ],
          "name": "stdout"
        }
      ]
    },
    {
      "cell_type": "markdown",
      "metadata": {
        "id": "Vjf-S0I8tvil"
      },
      "source": [
        "# **Transposta de uma matriz**"
      ]
    },
    {
      "cell_type": "code",
      "metadata": {
        "id": "LYvIyRYltzwv",
        "colab": {
          "base_uri": "https://localhost:8080/"
        },
        "outputId": "656a6044-6672-46c8-e52f-d8111a03340c"
      },
      "source": [
        "\n",
        "M = np.array([[1,9,3],[2,-7,6],[8,7,0]])\n",
        "\n",
        "print(\"\\n Matriz (M)  ==>  \\n\", M)\n",
        "\n",
        "print(\"\\n Transposta de M ==>  \\n\", np.transpose(M))\n",
        "\n",
        "# ou\n",
        "\n",
        "print(\"\\nTransposta de M ==>  \\n\", M.T)"
      ],
      "execution_count": 65,
      "outputs": [
        {
          "output_type": "stream",
          "text": [
            "\n",
            " Matriz (M)  ==>  \n",
            " [[ 1  9  3]\n",
            " [ 2 -7  6]\n",
            " [ 8  7  0]]\n",
            "\n",
            " Transposta de M ==>  \n",
            " [[ 1  2  8]\n",
            " [ 9 -7  7]\n",
            " [ 3  6  0]]\n",
            "\n",
            "Transposta de M ==>  \n",
            " [[ 1  2  8]\n",
            " [ 9 -7  7]\n",
            " [ 3  6  0]]\n"
          ],
          "name": "stdout"
        }
      ]
    },
    {
      "cell_type": "markdown",
      "metadata": {
        "id": "MJlbZ-0RuCdc"
      },
      "source": [
        "# **Determinante de uma matriz**"
      ]
    },
    {
      "cell_type": "code",
      "metadata": {
        "id": "YGdPVGNwuH4E",
        "colab": {
          "base_uri": "https://localhost:8080/"
        },
        "outputId": "f23d0d59-9ecc-4f40-bfeb-be475bf129d4"
      },
      "source": [
        "M = np.array([[1,9,3],[2,-7,6],[8,7,0]])\n",
        "\n",
        "print(\"\\n Matriz (M)  ==>  \\n\", M)\n",
        "\n",
        "print(\"\\n Determinante de M ==>  \", np.linalg.det(M))"
      ],
      "execution_count": 66,
      "outputs": [
        {
          "output_type": "stream",
          "text": [
            "\n",
            " Matriz (M)  ==>  \n",
            " [[ 1  9  3]\n",
            " [ 2 -7  6]\n",
            " [ 8  7  0]]\n",
            "\n",
            " Determinante de M ==>   600.0\n"
          ],
          "name": "stdout"
        }
      ]
    },
    {
      "cell_type": "markdown",
      "metadata": {
        "id": "GcTq2hZduVBt"
      },
      "source": [
        "# **Posto de uma matriz**"
      ]
    },
    {
      "cell_type": "code",
      "metadata": {
        "id": "9BzWI5UsuYTq",
        "colab": {
          "base_uri": "https://localhost:8080/"
        },
        "outputId": "bc580f8b-6f8d-4675-ed8d-17373f5dcbdc"
      },
      "source": [
        "M = np.array([[1,9,3],[2,-7,6],[8,7,0]])\n",
        "\n",
        "print(\"\\n Matriz (M)  ==>  \\n\", M)\n",
        "\n",
        "print(\"\\n Posto de M ==> \", np.linalg.matrix_rank(M))"
      ],
      "execution_count": 67,
      "outputs": [
        {
          "output_type": "stream",
          "text": [
            "\n",
            " Matriz (M)  ==>  \n",
            " [[ 1  9  3]\n",
            " [ 2 -7  6]\n",
            " [ 8  7  0]]\n",
            "\n",
            " Posto de M ==>  3\n"
          ],
          "name": "stdout"
        }
      ]
    },
    {
      "cell_type": "markdown",
      "metadata": {
        "id": "PRWyjQcCugiT"
      },
      "source": [
        "# **Traço de uma matriz**"
      ]
    },
    {
      "cell_type": "code",
      "metadata": {
        "id": "7ZjRtSE5ujSe",
        "colab": {
          "base_uri": "https://localhost:8080/"
        },
        "outputId": "eb28e8d3-d724-4eb7-82d3-ad1d7cf54441"
      },
      "source": [
        "M = np.array([[1,9,3],[2,-7,6],[8,7,0]])\n",
        "\n",
        "print(\"\\n Matriz (M)  ==>  \\n\", M)\n",
        "\n",
        "print(\"\\n Traço de M ==> \", np.trace(M))"
      ],
      "execution_count": 68,
      "outputs": [
        {
          "output_type": "stream",
          "text": [
            "\n",
            " Matriz (M)  ==>  \n",
            " [[ 1  9  3]\n",
            " [ 2 -7  6]\n",
            " [ 8  7  0]]\n",
            "\n",
            " Traço de M ==>  -6\n"
          ],
          "name": "stdout"
        }
      ]
    },
    {
      "cell_type": "markdown",
      "metadata": {
        "id": "uFHuDmgiuyc8"
      },
      "source": [
        "# **Inversa de uma matriz**"
      ]
    },
    {
      "cell_type": "code",
      "metadata": {
        "id": "XhnvyYwsuvDT",
        "colab": {
          "base_uri": "https://localhost:8080/"
        },
        "outputId": "8b644502-8483-404e-90ed-4d3b634d5d0c"
      },
      "source": [
        "M = np.array([[1,9,3],[2,-7,6],[8,7,0]])\n",
        "\n",
        "print(\"\\n Matriz (M)  ==>  \\n\", M)\n",
        "\n",
        "print(\"\\n Inversa de M ==> \\n\", np.linalg.inv(M))"
      ],
      "execution_count": 69,
      "outputs": [
        {
          "output_type": "stream",
          "text": [
            "\n",
            " Matriz (M)  ==>  \n",
            " [[ 1  9  3]\n",
            " [ 2 -7  6]\n",
            " [ 8  7  0]]\n",
            "\n",
            " Inversa de M ==> \n",
            " [[-0.07        0.035       0.125     ]\n",
            " [ 0.08       -0.04       -0.        ]\n",
            " [ 0.11666667  0.10833333 -0.04166667]]\n"
          ],
          "name": "stdout"
        }
      ]
    },
    {
      "cell_type": "markdown",
      "metadata": {
        "id": "gKKiIPsivP3C"
      },
      "source": [
        "# **Multiplicação de matrizes (pontual)**"
      ]
    },
    {
      "cell_type": "code",
      "metadata": {
        "id": "bZ7MUbxQvINp",
        "colab": {
          "base_uri": "https://localhost:8080/"
        },
        "outputId": "9a9eba19-ba57-4a44-c734-5b9b6f4e6633"
      },
      "source": [
        "M = np.array([[1,9,3],[2,-7,6],[8,7,0]])\n",
        "N = np.array([[5,5,5],[6,6,6],[7,7,7]])\n",
        "\n",
        "print(\"\\n Primeira matriz (M)  ==>  \\n\", M)\n",
        "print(\"\\n Segunda matriz (N)  ==>  \\n\", N)\n",
        "\n",
        "print(\"\\n Multiplication pontual de M e N  ==> \\n\", M*N)\n",
        "\n",
        "# ou\n",
        "\n",
        "print(\"\\n Multiplication pontual de M e N  ==> \\n\", np.multiply(M,N))"
      ],
      "execution_count": 70,
      "outputs": [
        {
          "output_type": "stream",
          "text": [
            "\n",
            " Primeira matriz (M)  ==>  \n",
            " [[ 1  9  3]\n",
            " [ 2 -7  6]\n",
            " [ 8  7  0]]\n",
            "\n",
            " Segunda matriz (N)  ==>  \n",
            " [[5 5 5]\n",
            " [6 6 6]\n",
            " [7 7 7]]\n",
            "\n",
            " Multiplication pontual de M e N  ==> \n",
            " [[  5  45  15]\n",
            " [ 12 -42  36]\n",
            " [ 56  49   0]]\n",
            "\n",
            " Multiplication pontual de M e N  ==> \n",
            " [[  5  45  15]\n",
            " [ 12 -42  36]\n",
            " [ 56  49   0]]\n"
          ],
          "name": "stdout"
        }
      ]
    },
    {
      "cell_type": "markdown",
      "metadata": {
        "id": "8d9V693TvkRQ"
      },
      "source": [
        "# **Produto escalar matricial**"
      ]
    },
    {
      "cell_type": "code",
      "metadata": {
        "id": "UXMfyVC4voKz",
        "colab": {
          "base_uri": "https://localhost:8080/"
        },
        "outputId": "b4d3b3d3-d8da-433c-9365-c8f0bac06d85"
      },
      "source": [
        "\n",
        "M = np.array([[1,9,3],[2,-7,6],[8,7,0]])\n",
        "N = np.array([[5,5,5],[6,6,6],[7,7,7]])\n",
        "\n",
        "print(\"\\n Primeira matriz (M) \\n\", M)\n",
        "print(\"\\n Segunda matriz (N) \\n\", N)\n",
        "\n",
        "print(\"\\n Produto escalar \\n\", M@N)\n",
        "\n",
        "# ou\n",
        "\n",
        "print(\"\\n Produto escala usando np.matmul \\n\", np.matmul(M,N))\n",
        "\n",
        "# ou\n",
        "\n",
        "print(\"\\n Produto escala usando np.dot \\n\", np.dot(M,N))"
      ],
      "execution_count": 71,
      "outputs": [
        {
          "output_type": "stream",
          "text": [
            "\n",
            " Primeira matriz (M) \n",
            " [[ 1  9  3]\n",
            " [ 2 -7  6]\n",
            " [ 8  7  0]]\n",
            "\n",
            " Segunda matriz (N) \n",
            " [[5 5 5]\n",
            " [6 6 6]\n",
            " [7 7 7]]\n",
            "\n",
            " Produto escalar \n",
            " [[80 80 80]\n",
            " [10 10 10]\n",
            " [82 82 82]]\n",
            "\n",
            " Produto escala usando np.matmul \n",
            " [[80 80 80]\n",
            " [10 10 10]\n",
            " [82 82 82]]\n",
            "\n",
            " Produto escala usando np.dot \n",
            " [[80 80 80]\n",
            " [10 10 10]\n",
            " [82 82 82]]\n"
          ],
          "name": "stdout"
        }
      ]
    },
    {
      "cell_type": "markdown",
      "metadata": {
        "id": "ba-mXDbkv_c4"
      },
      "source": [
        "# **\"Divisão\" de Matrizes**"
      ]
    },
    {
      "cell_type": "code",
      "metadata": {
        "id": "zLNnGihOwFHU",
        "colab": {
          "base_uri": "https://localhost:8080/"
        },
        "outputId": "2a2b3757-cb3c-469c-dfba-48820d791510"
      },
      "source": [
        "M = np.array([[1,9,3],[2,-7,6],[8,7,0]])\n",
        "N = np.array([[5,5,5],[6,6,6],[7,7,7]])\n",
        "\n",
        "print(\"\\n Primeira matriz (M) \\n\", M)\n",
        "print(\"\\n Segunda matriz (N) \\n\", N)\n",
        "\n",
        "\n",
        "print(\"\\n Divisão (M/N) \\n\", M/N)\n",
        "\n",
        "# ou\n",
        "\n",
        "print(\"\\n Divisão (M/N) \\n\", np.divide(M,N))"
      ],
      "execution_count": 72,
      "outputs": [
        {
          "output_type": "stream",
          "text": [
            "\n",
            " Primeira matriz (M) \n",
            " [[ 1  9  3]\n",
            " [ 2 -7  6]\n",
            " [ 8  7  0]]\n",
            "\n",
            " Segunda matriz (N) \n",
            " [[5 5 5]\n",
            " [6 6 6]\n",
            " [7 7 7]]\n",
            "\n",
            " Divisão (M/N) \n",
            " [[ 0.2         1.8         0.6       ]\n",
            " [ 0.33333333 -1.16666667  1.        ]\n",
            " [ 1.14285714  1.          0.        ]]\n",
            "\n",
            " Divisão (M/N) \n",
            " [[ 0.2         1.8         0.6       ]\n",
            " [ 0.33333333 -1.16666667  1.        ]\n",
            " [ 1.14285714  1.          0.        ]]\n"
          ],
          "name": "stdout"
        }
      ]
    },
    {
      "cell_type": "markdown",
      "metadata": {
        "id": "gNQ7I084wYv7"
      },
      "source": [
        "# **Soma de todos elementos da matriz**"
      ]
    },
    {
      "cell_type": "code",
      "metadata": {
        "id": "9LGxg_viwbxS",
        "colab": {
          "base_uri": "https://localhost:8080/"
        },
        "outputId": "74de9326-a133-46ad-a50f-573980944826"
      },
      "source": [
        "N = np.array([[5,5,5],[6,6,6],[7,7,7]])\n",
        "\n",
        "print(\"Matriz (N) \\n\", N)\n",
        "\n",
        "print (\"Soma de todos elementos da matriz\")\n",
        "print (np.sum(N))"
      ],
      "execution_count": 73,
      "outputs": [
        {
          "output_type": "stream",
          "text": [
            "Matriz (N) \n",
            " [[5 5 5]\n",
            " [6 6 6]\n",
            " [7 7 7]]\n",
            "Soma de todos elementos da matriz\n",
            "54\n"
          ],
          "name": "stdout"
        }
      ]
    },
    {
      "cell_type": "markdown",
      "metadata": {
        "id": "ZvR56XOfw96t"
      },
      "source": [
        "# **Adição com base na coluna**"
      ]
    },
    {
      "cell_type": "code",
      "metadata": {
        "id": "xM8DP0fUxAtK",
        "colab": {
          "base_uri": "https://localhost:8080/"
        },
        "outputId": "6a3d9146-f6d5-451e-a57a-fdae980eaad7"
      },
      "source": [
        "N = np.array([[5,5,5],[6,6,6],[7,7,7]])\n",
        "\n",
        "print(\"Matriz (N)  ==>  \\n\", N)\n",
        "\n",
        "print (\"Adição com base na coluna\")\n",
        "print (np.sum(N,axis=0))"
      ],
      "execution_count": 74,
      "outputs": [
        {
          "output_type": "stream",
          "text": [
            "Matriz (N)  ==>  \n",
            " [[5 5 5]\n",
            " [6 6 6]\n",
            " [7 7 7]]\n",
            "Adição com base na coluna\n",
            "[18 18 18]\n"
          ],
          "name": "stdout"
        }
      ]
    },
    {
      "cell_type": "markdown",
      "metadata": {
        "id": "IJwbu42-xLil"
      },
      "source": [
        "# **Adição com base na linha**"
      ]
    },
    {
      "cell_type": "code",
      "metadata": {
        "id": "p36XkOgtxOzJ",
        "colab": {
          "base_uri": "https://localhost:8080/"
        },
        "outputId": "cfbdf66c-325e-4e7a-ddf3-7c0fa55dd2e5"
      },
      "source": [
        "N = np.array([[5,5,5],[6,6,6],[7,7,7]])\n",
        "\n",
        "print(\"Matriz (N)  ==>  \\n\", N)\n",
        "\n",
        "print (\"Adição com base na linha\")\n",
        "print (np.sum(N,axis=1))"
      ],
      "execution_count": 75,
      "outputs": [
        {
          "output_type": "stream",
          "text": [
            "Matriz (N)  ==>  \n",
            " [[5 5 5]\n",
            " [6 6 6]\n",
            " [7 7 7]]\n",
            "Adição com base na linha\n",
            "[15 18 21]\n"
          ],
          "name": "stdout"
        }
      ]
    },
    {
      "cell_type": "markdown",
      "metadata": {
        "id": "aGoRbvbGxYOs"
      },
      "source": [
        "# **Produto de Kronecker de matrizes**"
      ]
    },
    {
      "cell_type": "code",
      "metadata": {
        "id": "tCv0jCf6xdMK",
        "colab": {
          "base_uri": "https://localhost:8080/"
        },
        "outputId": "f7c4c981-221c-4eeb-d2eb-f45989a4db14"
      },
      "source": [
        "M1 = np.array([[1,2,3] , [4,5,6]]) \n",
        "M1"
      ],
      "execution_count": 76,
      "outputs": [
        {
          "output_type": "execute_result",
          "data": {
            "text/plain": [
              "array([[1, 2, 3],\n",
              "       [4, 5, 6]])"
            ]
          },
          "metadata": {
            "tags": []
          },
          "execution_count": 76
        }
      ]
    },
    {
      "cell_type": "code",
      "metadata": {
        "id": "QMeh2tlJxfWf",
        "colab": {
          "base_uri": "https://localhost:8080/"
        },
        "outputId": "034aa5cf-780a-4764-974d-f4c2fa159da4"
      },
      "source": [
        "M2 = np.array([[10,10,10],[10,10,10]])\n",
        "M2"
      ],
      "execution_count": 77,
      "outputs": [
        {
          "output_type": "execute_result",
          "data": {
            "text/plain": [
              "array([[10, 10, 10],\n",
              "       [10, 10, 10]])"
            ]
          },
          "metadata": {
            "tags": []
          },
          "execution_count": 77
        }
      ]
    },
    {
      "cell_type": "code",
      "metadata": {
        "id": "1ku4wIN1xiC5",
        "colab": {
          "base_uri": "https://localhost:8080/"
        },
        "outputId": "7185baab-6e71-4d27-bd59-8faaaba17d6d"
      },
      "source": [
        "np.kron(M1,M2)"
      ],
      "execution_count": 78,
      "outputs": [
        {
          "output_type": "execute_result",
          "data": {
            "text/plain": [
              "array([[10, 10, 10, 20, 20, 20, 30, 30, 30],\n",
              "       [10, 10, 10, 20, 20, 20, 30, 30, 30],\n",
              "       [40, 40, 40, 50, 50, 50, 60, 60, 60],\n",
              "       [40, 40, 40, 50, 50, 50, 60, 60, 60]])"
            ]
          },
          "metadata": {
            "tags": []
          },
          "execution_count": 78
        }
      ]
    },
    {
      "cell_type": "markdown",
      "metadata": {
        "id": "n1rr5jv6xvXa"
      },
      "source": [
        "# **Multiplicação matriz-vetor**"
      ]
    },
    {
      "cell_type": "code",
      "metadata": {
        "id": "D_TDKHkzx3qx",
        "colab": {
          "base_uri": "https://localhost:8080/"
        },
        "outputId": "25a96dd8-d713-42dc-a300-e246c76656e4"
      },
      "source": [
        "A = np.array([[1,2,3] ,[4,5,6]])\n",
        "v = np.array([10,20,30])\n",
        "print (\"Multiplicação matriz-vetor \\n\", A*v)"
      ],
      "execution_count": 79,
      "outputs": [
        {
          "output_type": "stream",
          "text": [
            "Multiplicação matriz-vetor \n",
            " [[ 10  40  90]\n",
            " [ 40 100 180]]\n"
          ],
          "name": "stdout"
        }
      ]
    },
    {
      "cell_type": "markdown",
      "metadata": {
        "id": "2-3w4rj_yGUC"
      },
      "source": [
        "# **Produto escalar matriz-vetor**"
      ]
    },
    {
      "cell_type": "code",
      "metadata": {
        "id": "zvWeJf54yKXo",
        "colab": {
          "base_uri": "https://localhost:8080/"
        },
        "outputId": "9858517d-7128-4ac1-f400-1d69c8280d8c"
      },
      "source": [
        "A = np.array([[1,2,3] ,[4,5,6]])\n",
        "v = np.array([10,20,30])\n",
        "\n",
        "print (\"Produto escalar matriz-vetor \\n\" , A@v)"
      ],
      "execution_count": 80,
      "outputs": [
        {
          "output_type": "stream",
          "text": [
            "Produto escalar matriz-vetor \n",
            " [140 320]\n"
          ],
          "name": "stdout"
        }
      ]
    },
    {
      "cell_type": "markdown",
      "metadata": {
        "id": "Tmlxdcy2yYhi"
      },
      "source": [
        "# **Potências de matriz**"
      ]
    },
    {
      "cell_type": "code",
      "metadata": {
        "id": "NMpEu2pryZ8-",
        "colab": {
          "base_uri": "https://localhost:8080/"
        },
        "outputId": "c119ebbc-c71f-44f1-b0d9-5bdabf3d2f46"
      },
      "source": [
        "M1 = np.array([[1,2],[5,6]])\n",
        "M1"
      ],
      "execution_count": 81,
      "outputs": [
        {
          "output_type": "execute_result",
          "data": {
            "text/plain": [
              "array([[1, 2],\n",
              "       [5, 6]])"
            ]
          },
          "metadata": {
            "tags": []
          },
          "execution_count": 81
        }
      ]
    },
    {
      "cell_type": "code",
      "metadata": {
        "id": "2r6DYJwvyg9Z",
        "colab": {
          "base_uri": "https://localhost:8080/"
        },
        "outputId": "fa564ee9-9d79-4c2b-ba38-96ebc73d2dfe"
      },
      "source": [
        "# Matriz na potencia 3\n",
        "\n",
        "M1@M1@M1"
      ],
      "execution_count": 82,
      "outputs": [
        {
          "output_type": "execute_result",
          "data": {
            "text/plain": [
              "array([[ 81, 106],\n",
              "       [265, 346]])"
            ]
          },
          "metadata": {
            "tags": []
          },
          "execution_count": 82
        }
      ]
    },
    {
      "cell_type": "code",
      "metadata": {
        "id": "kZhrwOCWyp5t",
        "colab": {
          "base_uri": "https://localhost:8080/"
        },
        "outputId": "e938aa44-1c1c-4d89-ac64-55bf33f3b9bd"
      },
      "source": [
        "# Matriz na potencia 3 usando np.linalg.matrix_power\n",
        "\n",
        "np.linalg.matrix_power(M1,3)"
      ],
      "execution_count": 83,
      "outputs": [
        {
          "output_type": "execute_result",
          "data": {
            "text/plain": [
              "array([[ 81, 106],\n",
              "       [265, 346]])"
            ]
          },
          "metadata": {
            "tags": []
          },
          "execution_count": 83
        }
      ]
    },
    {
      "cell_type": "markdown",
      "metadata": {
        "id": "BrIEd6AZyzhB"
      },
      "source": [
        "# **Tensores**"
      ]
    },
    {
      "cell_type": "code",
      "metadata": {
        "id": "NzH263PCy2Fs",
        "colab": {
          "base_uri": "https://localhost:8080/"
        },
        "outputId": "57f3f269-915b-46d1-d872-6ea62b841d5b"
      },
      "source": [
        "# Criando um Tensor\n",
        "\n",
        "T1 = np.array([\n",
        "  [[1,2,3],    [4,5,6],    [7,8,9]],\n",
        "  [[10,11,12], [13,14,15], [16,17,18]],\n",
        "  [[19,20,21], [22,23,24], [25,26,27]],\n",
        "  ])\n",
        "\n",
        "T1"
      ],
      "execution_count": 84,
      "outputs": [
        {
          "output_type": "execute_result",
          "data": {
            "text/plain": [
              "array([[[ 1,  2,  3],\n",
              "        [ 4,  5,  6],\n",
              "        [ 7,  8,  9]],\n",
              "\n",
              "       [[10, 11, 12],\n",
              "        [13, 14, 15],\n",
              "        [16, 17, 18]],\n",
              "\n",
              "       [[19, 20, 21],\n",
              "        [22, 23, 24],\n",
              "        [25, 26, 27]]])"
            ]
          },
          "metadata": {
            "tags": []
          },
          "execution_count": 84
        }
      ]
    },
    {
      "cell_type": "code",
      "metadata": {
        "id": "CL7UN9UfzCSC",
        "colab": {
          "base_uri": "https://localhost:8080/"
        },
        "outputId": "a341face-706b-4c6b-e813-e6f5755cf0ba"
      },
      "source": [
        "T2 = np.array([\n",
        "  [[0,0,0] , [0,0,0] , [0,0,0]],\n",
        "  [[2,2,2] , [2,2,2] , [2,2,2]],\n",
        "  [[4,4,4] , [4,4,4] , [4,4,4]]\n",
        "    \n",
        "])\n",
        "\n",
        "T2"
      ],
      "execution_count": 85,
      "outputs": [
        {
          "output_type": "execute_result",
          "data": {
            "text/plain": [
              "array([[[0, 0, 0],\n",
              "        [0, 0, 0],\n",
              "        [0, 0, 0]],\n",
              "\n",
              "       [[2, 2, 2],\n",
              "        [2, 2, 2],\n",
              "        [2, 2, 2]],\n",
              "\n",
              "       [[4, 4, 4],\n",
              "        [4, 4, 4],\n",
              "        [4, 4, 4]]])"
            ]
          },
          "metadata": {
            "tags": []
          },
          "execution_count": 85
        }
      ]
    },
    {
      "cell_type": "markdown",
      "metadata": {
        "id": "XGQm-5ITzG0L"
      },
      "source": [
        "# **Soma de tensores**"
      ]
    },
    {
      "cell_type": "code",
      "metadata": {
        "id": "ns5rc-T-zLa_",
        "colab": {
          "base_uri": "https://localhost:8080/"
        },
        "outputId": "73f97bda-7ca9-405b-ddb5-35a7d640e7e0"
      },
      "source": [
        "A = T1+T2\n",
        "A"
      ],
      "execution_count": 86,
      "outputs": [
        {
          "output_type": "execute_result",
          "data": {
            "text/plain": [
              "array([[[ 1,  2,  3],\n",
              "        [ 4,  5,  6],\n",
              "        [ 7,  8,  9]],\n",
              "\n",
              "       [[12, 13, 14],\n",
              "        [15, 16, 17],\n",
              "        [18, 19, 20]],\n",
              "\n",
              "       [[23, 24, 25],\n",
              "        [26, 27, 28],\n",
              "        [29, 30, 31]]])"
            ]
          },
          "metadata": {
            "tags": []
          },
          "execution_count": 86
        }
      ]
    },
    {
      "cell_type": "markdown",
      "metadata": {
        "id": "ov1sbbZKzN9x"
      },
      "source": [
        "# **Subtração de tensores**"
      ]
    },
    {
      "cell_type": "code",
      "metadata": {
        "id": "wHnlbI2VzQol",
        "colab": {
          "base_uri": "https://localhost:8080/"
        },
        "outputId": "185fe3a4-1341-4ec3-c092-96f9f3b37b67"
      },
      "source": [
        "S = T1-T2\n",
        "S"
      ],
      "execution_count": 87,
      "outputs": [
        {
          "output_type": "execute_result",
          "data": {
            "text/plain": [
              "array([[[ 1,  2,  3],\n",
              "        [ 4,  5,  6],\n",
              "        [ 7,  8,  9]],\n",
              "\n",
              "       [[ 8,  9, 10],\n",
              "        [11, 12, 13],\n",
              "        [14, 15, 16]],\n",
              "\n",
              "       [[15, 16, 17],\n",
              "        [18, 19, 20],\n",
              "        [21, 22, 23]]])"
            ]
          },
          "metadata": {
            "tags": []
          },
          "execution_count": 87
        }
      ]
    },
    {
      "cell_type": "code",
      "metadata": {
        "id": "0DH896_ozTsl",
        "colab": {
          "base_uri": "https://localhost:8080/"
        },
        "outputId": "d5dc08c2-6f82-4a79-e42b-55bcd2f4742e"
      },
      "source": [
        "np.subtract(T1,T2)"
      ],
      "execution_count": 88,
      "outputs": [
        {
          "output_type": "execute_result",
          "data": {
            "text/plain": [
              "array([[[ 1,  2,  3],\n",
              "        [ 4,  5,  6],\n",
              "        [ 7,  8,  9]],\n",
              "\n",
              "       [[ 8,  9, 10],\n",
              "        [11, 12, 13],\n",
              "        [14, 15, 16]],\n",
              "\n",
              "       [[15, 16, 17],\n",
              "        [18, 19, 20],\n",
              "        [21, 22, 23]]])"
            ]
          },
          "metadata": {
            "tags": []
          },
          "execution_count": 88
        }
      ]
    },
    {
      "cell_type": "markdown",
      "metadata": {
        "id": "YCqKuIqvz0V2"
      },
      "source": [
        "# **Produto de tensores (baseado em elementos)**"
      ]
    },
    {
      "cell_type": "code",
      "metadata": {
        "id": "M77NIj7oz7fz",
        "colab": {
          "base_uri": "https://localhost:8080/"
        },
        "outputId": "ecd576b4-33a0-4377-c20c-de26bf49cab4"
      },
      "source": [
        "P = T1*T2\n",
        "P"
      ],
      "execution_count": 89,
      "outputs": [
        {
          "output_type": "execute_result",
          "data": {
            "text/plain": [
              "array([[[  0,   0,   0],\n",
              "        [  0,   0,   0],\n",
              "        [  0,   0,   0]],\n",
              "\n",
              "       [[ 20,  22,  24],\n",
              "        [ 26,  28,  30],\n",
              "        [ 32,  34,  36]],\n",
              "\n",
              "       [[ 76,  80,  84],\n",
              "        [ 88,  92,  96],\n",
              "        [100, 104, 108]]])"
            ]
          },
          "metadata": {
            "tags": []
          },
          "execution_count": 89
        }
      ]
    },
    {
      "cell_type": "code",
      "metadata": {
        "id": "p_ATY7bmz-cp",
        "colab": {
          "base_uri": "https://localhost:8080/"
        },
        "outputId": "d1c4669c-2c9a-4808-bcb1-9755686889ac"
      },
      "source": [
        "np.multiply(T1,T2)"
      ],
      "execution_count": 90,
      "outputs": [
        {
          "output_type": "execute_result",
          "data": {
            "text/plain": [
              "array([[[  0,   0,   0],\n",
              "        [  0,   0,   0],\n",
              "        [  0,   0,   0]],\n",
              "\n",
              "       [[ 20,  22,  24],\n",
              "        [ 26,  28,  30],\n",
              "        [ 32,  34,  36]],\n",
              "\n",
              "       [[ 76,  80,  84],\n",
              "        [ 88,  92,  96],\n",
              "        [100, 104, 108]]])"
            ]
          },
          "metadata": {
            "tags": []
          },
          "execution_count": 90
        }
      ]
    },
    {
      "cell_type": "markdown",
      "metadata": {
        "id": "P6ylBLCW0DJZ"
      },
      "source": [
        "# **\"Divisão\" de tensores (baseado em elementos)**"
      ]
    },
    {
      "cell_type": "code",
      "metadata": {
        "id": "-GzY3KED0GVl",
        "colab": {
          "base_uri": "https://localhost:8080/"
        },
        "outputId": "5c4c39c8-9ad0-44e2-d566-eb33cd629e20"
      },
      "source": [
        "D = T1/T2\n",
        "D"
      ],
      "execution_count": 91,
      "outputs": [
        {
          "output_type": "stream",
          "text": [
            "/usr/local/lib/python3.7/dist-packages/ipykernel_launcher.py:1: RuntimeWarning: divide by zero encountered in true_divide\n",
            "  \"\"\"Entry point for launching an IPython kernel.\n"
          ],
          "name": "stderr"
        },
        {
          "output_type": "execute_result",
          "data": {
            "text/plain": [
              "array([[[ inf,  inf,  inf],\n",
              "        [ inf,  inf,  inf],\n",
              "        [ inf,  inf,  inf]],\n",
              "\n",
              "       [[5.  , 5.5 , 6.  ],\n",
              "        [6.5 , 7.  , 7.5 ],\n",
              "        [8.  , 8.5 , 9.  ]],\n",
              "\n",
              "       [[4.75, 5.  , 5.25],\n",
              "        [5.5 , 5.75, 6.  ],\n",
              "        [6.25, 6.5 , 6.75]]])"
            ]
          },
          "metadata": {
            "tags": []
          },
          "execution_count": 91
        }
      ]
    },
    {
      "cell_type": "code",
      "metadata": {
        "id": "TB4U_n600LBU",
        "colab": {
          "base_uri": "https://localhost:8080/"
        },
        "outputId": "2551e741-f293-4da4-d781-80d5a8c2670b"
      },
      "source": [
        "np.divide(T1,T2)"
      ],
      "execution_count": 92,
      "outputs": [
        {
          "output_type": "stream",
          "text": [
            "/usr/local/lib/python3.7/dist-packages/ipykernel_launcher.py:1: RuntimeWarning: divide by zero encountered in true_divide\n",
            "  \"\"\"Entry point for launching an IPython kernel.\n"
          ],
          "name": "stderr"
        },
        {
          "output_type": "execute_result",
          "data": {
            "text/plain": [
              "array([[[ inf,  inf,  inf],\n",
              "        [ inf,  inf,  inf],\n",
              "        [ inf,  inf,  inf]],\n",
              "\n",
              "       [[5.  , 5.5 , 6.  ],\n",
              "        [6.5 , 7.  , 7.5 ],\n",
              "        [8.  , 8.5 , 9.  ]],\n",
              "\n",
              "       [[4.75, 5.  , 5.25],\n",
              "        [5.5 , 5.75, 6.  ],\n",
              "        [6.25, 6.5 , 6.75]]])"
            ]
          },
          "metadata": {
            "tags": []
          },
          "execution_count": 92
        }
      ]
    },
    {
      "cell_type": "markdown",
      "metadata": {
        "id": "f0WfFZzr0R5r"
      },
      "source": [
        "# **Produto escalar de tensores**"
      ]
    },
    {
      "cell_type": "code",
      "metadata": {
        "id": "IDOxKn_l0X68",
        "colab": {
          "base_uri": "https://localhost:8080/"
        },
        "outputId": "eb67c917-758e-44a3-fab0-9382ed12b3c3"
      },
      "source": [
        "T1"
      ],
      "execution_count": 93,
      "outputs": [
        {
          "output_type": "execute_result",
          "data": {
            "text/plain": [
              "array([[[ 1,  2,  3],\n",
              "        [ 4,  5,  6],\n",
              "        [ 7,  8,  9]],\n",
              "\n",
              "       [[10, 11, 12],\n",
              "        [13, 14, 15],\n",
              "        [16, 17, 18]],\n",
              "\n",
              "       [[19, 20, 21],\n",
              "        [22, 23, 24],\n",
              "        [25, 26, 27]]])"
            ]
          },
          "metadata": {
            "tags": []
          },
          "execution_count": 93
        }
      ]
    },
    {
      "cell_type": "code",
      "metadata": {
        "id": "bvj4BqFk0ZZ2",
        "colab": {
          "base_uri": "https://localhost:8080/"
        },
        "outputId": "b9b41e35-0b0d-49f8-bf4e-9c2816d85018"
      },
      "source": [
        "T2"
      ],
      "execution_count": 94,
      "outputs": [
        {
          "output_type": "execute_result",
          "data": {
            "text/plain": [
              "array([[[0, 0, 0],\n",
              "        [0, 0, 0],\n",
              "        [0, 0, 0]],\n",
              "\n",
              "       [[2, 2, 2],\n",
              "        [2, 2, 2],\n",
              "        [2, 2, 2]],\n",
              "\n",
              "       [[4, 4, 4],\n",
              "        [4, 4, 4],\n",
              "        [4, 4, 4]]])"
            ]
          },
          "metadata": {
            "tags": []
          },
          "execution_count": 94
        }
      ]
    },
    {
      "cell_type": "code",
      "metadata": {
        "id": "3eMw8HqV0dfE",
        "colab": {
          "base_uri": "https://localhost:8080/"
        },
        "outputId": "ff2b4f82-2659-46c8-c2b7-9ccd1676bbf2"
      },
      "source": [
        "np.tensordot(T1,T2)"
      ],
      "execution_count": 95,
      "outputs": [
        {
          "output_type": "execute_result",
          "data": {
            "text/plain": [
              "array([[126, 126, 126],\n",
              "       [288, 288, 288],\n",
              "       [450, 450, 450]])"
            ]
          },
          "metadata": {
            "tags": []
          },
          "execution_count": 95
        }
      ]
    },
    {
      "cell_type": "markdown",
      "metadata": {
        "id": "tkedbacX0hbj"
      },
      "source": [
        "# **Solução de sistemas lineares (AX=B)**"
      ]
    },
    {
      "cell_type": "code",
      "metadata": {
        "id": "ppRIb78X0kaf",
        "colab": {
          "base_uri": "https://localhost:8080/"
        },
        "outputId": "66269817-527a-4141-92f3-a787793165a1"
      },
      "source": [
        "A = np.array([[4,-2,3] , [1,-5,6] , [-7,8,9]])\n",
        "A"
      ],
      "execution_count": 96,
      "outputs": [
        {
          "output_type": "execute_result",
          "data": {
            "text/plain": [
              "array([[ 4, -2,  3],\n",
              "       [ 1, -5,  6],\n",
              "       [-7,  8,  9]])"
            ]
          },
          "metadata": {
            "tags": []
          },
          "execution_count": 96
        }
      ]
    },
    {
      "cell_type": "code",
      "metadata": {
        "id": "AIy8spGP0vse",
        "colab": {
          "base_uri": "https://localhost:8080/"
        },
        "outputId": "6754461a-a674-4010-cc9a-5ebf1ca050f1"
      },
      "source": [
        "B = np.random.random((3,1))\n",
        "B"
      ],
      "execution_count": 97,
      "outputs": [
        {
          "output_type": "execute_result",
          "data": {
            "text/plain": [
              "array([[0.10491694],\n",
              "       [0.21342286],\n",
              "       [0.1630831 ]])"
            ]
          },
          "metadata": {
            "tags": []
          },
          "execution_count": 97
        }
      ]
    },
    {
      "cell_type": "code",
      "metadata": {
        "id": "nWAWUUh100AX",
        "colab": {
          "base_uri": "https://localhost:8080/"
        },
        "outputId": "b49703a5-a61b-4456-e195-2b0fe4b1020d"
      },
      "source": [
        "# Primeiro metodo\n",
        "X = np.dot(np.linalg.inv(A) , B)\n",
        "X"
      ],
      "execution_count": 98,
      "outputs": [
        {
          "output_type": "execute_result",
          "data": {
            "text/plain": [
              "array([[ 0.00086686],\n",
              "       [-0.00965696],\n",
              "       [ 0.02737853]])"
            ]
          },
          "metadata": {
            "tags": []
          },
          "execution_count": 98
        }
      ]
    },
    {
      "cell_type": "code",
      "metadata": {
        "id": "PG0sqZcH3Nt3",
        "colab": {
          "base_uri": "https://localhost:8080/"
        },
        "outputId": "9940e4f4-2426-486b-f82f-b28f22b0aa60"
      },
      "source": [
        "# Segundo Metodo\n",
        "X = np.matmul(np.linalg.inv(A) , B)\n",
        "X"
      ],
      "execution_count": 99,
      "outputs": [
        {
          "output_type": "execute_result",
          "data": {
            "text/plain": [
              "array([[ 0.00086686],\n",
              "       [-0.00965696],\n",
              "       [ 0.02737853]])"
            ]
          },
          "metadata": {
            "tags": []
          },
          "execution_count": 99
        }
      ]
    },
    {
      "cell_type": "code",
      "metadata": {
        "id": "buUB0Y-m3ar1",
        "colab": {
          "base_uri": "https://localhost:8080/"
        },
        "outputId": "1e4eab4b-776e-426c-92b7-01088964cbd2"
      },
      "source": [
        "# Terceiro metodo\n",
        "X = np.linalg.inv(A)@B\n",
        "X"
      ],
      "execution_count": 100,
      "outputs": [
        {
          "output_type": "execute_result",
          "data": {
            "text/plain": [
              "array([[ 0.00086686],\n",
              "       [-0.00965696],\n",
              "       [ 0.02737853]])"
            ]
          },
          "metadata": {
            "tags": []
          },
          "execution_count": 100
        }
      ]
    },
    {
      "cell_type": "code",
      "metadata": {
        "id": "frP5354_3eFC",
        "colab": {
          "base_uri": "https://localhost:8080/"
        },
        "outputId": "53a4009d-d0bb-42e8-d7a3-62c767f6520f"
      },
      "source": [
        "# Quarto metodo\n",
        "X = np.linalg.solve(A,B)\n",
        "X"
      ],
      "execution_count": 101,
      "outputs": [
        {
          "output_type": "execute_result",
          "data": {
            "text/plain": [
              "array([[ 0.00086686],\n",
              "       [-0.00965696],\n",
              "       [ 0.02737853]])"
            ]
          },
          "metadata": {
            "tags": []
          },
          "execution_count": 101
        }
      ]
    }
  ]
}